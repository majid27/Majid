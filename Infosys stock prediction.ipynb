{
 "cells": [
  {
   "cell_type": "code",
   "execution_count": 2,
   "metadata": {},
   "outputs": [],
   "source": [
    "#import neccerary libarary\n",
    "\n",
    "import numpy as np\n",
    "import pandas as pd\n",
    "import matplotlib.pyplot as plt\n",
    "from sklearn.preprocessing import MinMaxScaler\n",
    "from keras.models import Sequential, load_model\n",
    "from keras.layers import LSTM, Dense, Dropout\n",
    "import os"
   ]
  },
  {
   "cell_type": "code",
   "execution_count": 3,
   "metadata": {},
   "outputs": [
    {
     "data": {
      "text/html": [
       "<div>\n",
       "<style scoped>\n",
       "    .dataframe tbody tr th:only-of-type {\n",
       "        vertical-align: middle;\n",
       "    }\n",
       "\n",
       "    .dataframe tbody tr th {\n",
       "        vertical-align: top;\n",
       "    }\n",
       "\n",
       "    .dataframe thead th {\n",
       "        text-align: right;\n",
       "    }\n",
       "</style>\n",
       "<table border=\"1\" class=\"dataframe\">\n",
       "  <thead>\n",
       "    <tr style=\"text-align: right;\">\n",
       "      <th></th>\n",
       "      <th>Date</th>\n",
       "      <th>Symbol</th>\n",
       "      <th>Series</th>\n",
       "      <th>Prev Close</th>\n",
       "      <th>Open</th>\n",
       "      <th>High</th>\n",
       "      <th>Low</th>\n",
       "      <th>Last</th>\n",
       "      <th>Close</th>\n",
       "      <th>VWAP</th>\n",
       "      <th>Volume</th>\n",
       "      <th>Turnover</th>\n",
       "      <th>Trades</th>\n",
       "      <th>Deliverable Volume</th>\n",
       "      <th>%Deliverble</th>\n",
       "    </tr>\n",
       "  </thead>\n",
       "  <tbody>\n",
       "    <tr>\n",
       "      <th>0</th>\n",
       "      <td>2000-01-03</td>\n",
       "      <td>INFOSYSTCH</td>\n",
       "      <td>EQ</td>\n",
       "      <td>14467.75</td>\n",
       "      <td>15625.00</td>\n",
       "      <td>15625.20</td>\n",
       "      <td>15625.00</td>\n",
       "      <td>15625.20</td>\n",
       "      <td>15625.20</td>\n",
       "      <td>15625.18</td>\n",
       "      <td>5137</td>\n",
       "      <td>8.026657e+12</td>\n",
       "      <td>NaN</td>\n",
       "      <td>NaN</td>\n",
       "      <td>NaN</td>\n",
       "    </tr>\n",
       "    <tr>\n",
       "      <th>1</th>\n",
       "      <td>2000-01-04</td>\n",
       "      <td>INFOSYSTCH</td>\n",
       "      <td>EQ</td>\n",
       "      <td>15625.20</td>\n",
       "      <td>16800.00</td>\n",
       "      <td>16875.25</td>\n",
       "      <td>16253.00</td>\n",
       "      <td>16875.25</td>\n",
       "      <td>16855.90</td>\n",
       "      <td>16646.38</td>\n",
       "      <td>56186</td>\n",
       "      <td>9.352937e+13</td>\n",
       "      <td>NaN</td>\n",
       "      <td>NaN</td>\n",
       "      <td>NaN</td>\n",
       "    </tr>\n",
       "    <tr>\n",
       "      <th>2</th>\n",
       "      <td>2000-01-05</td>\n",
       "      <td>INFOSYSTCH</td>\n",
       "      <td>EQ</td>\n",
       "      <td>16855.90</td>\n",
       "      <td>15701.00</td>\n",
       "      <td>16250.00</td>\n",
       "      <td>15507.45</td>\n",
       "      <td>15507.45</td>\n",
       "      <td>15507.45</td>\n",
       "      <td>15786.38</td>\n",
       "      <td>164605</td>\n",
       "      <td>2.598516e+14</td>\n",
       "      <td>NaN</td>\n",
       "      <td>NaN</td>\n",
       "      <td>NaN</td>\n",
       "    </tr>\n",
       "    <tr>\n",
       "      <th>3</th>\n",
       "      <td>2000-01-06</td>\n",
       "      <td>INFOSYSTCH</td>\n",
       "      <td>EQ</td>\n",
       "      <td>15507.45</td>\n",
       "      <td>15256.65</td>\n",
       "      <td>15300.00</td>\n",
       "      <td>14266.85</td>\n",
       "      <td>14266.85</td>\n",
       "      <td>14266.85</td>\n",
       "      <td>14462.82</td>\n",
       "      <td>81997</td>\n",
       "      <td>1.185908e+14</td>\n",
       "      <td>NaN</td>\n",
       "      <td>NaN</td>\n",
       "      <td>NaN</td>\n",
       "    </tr>\n",
       "    <tr>\n",
       "      <th>4</th>\n",
       "      <td>2000-01-07</td>\n",
       "      <td>INFOSYSTCH</td>\n",
       "      <td>EQ</td>\n",
       "      <td>14266.85</td>\n",
       "      <td>13125.50</td>\n",
       "      <td>13125.50</td>\n",
       "      <td>13125.50</td>\n",
       "      <td>13125.50</td>\n",
       "      <td>13125.50</td>\n",
       "      <td>13125.50</td>\n",
       "      <td>7589</td>\n",
       "      <td>9.960942e+12</td>\n",
       "      <td>NaN</td>\n",
       "      <td>NaN</td>\n",
       "      <td>NaN</td>\n",
       "    </tr>\n",
       "  </tbody>\n",
       "</table>\n",
       "</div>"
      ],
      "text/plain": [
       "         Date      Symbol Series  Prev Close      Open      High       Low  \\\n",
       "0  2000-01-03  INFOSYSTCH     EQ    14467.75  15625.00  15625.20  15625.00   \n",
       "1  2000-01-04  INFOSYSTCH     EQ    15625.20  16800.00  16875.25  16253.00   \n",
       "2  2000-01-05  INFOSYSTCH     EQ    16855.90  15701.00  16250.00  15507.45   \n",
       "3  2000-01-06  INFOSYSTCH     EQ    15507.45  15256.65  15300.00  14266.85   \n",
       "4  2000-01-07  INFOSYSTCH     EQ    14266.85  13125.50  13125.50  13125.50   \n",
       "\n",
       "       Last     Close      VWAP  Volume      Turnover  Trades  \\\n",
       "0  15625.20  15625.20  15625.18    5137  8.026657e+12     NaN   \n",
       "1  16875.25  16855.90  16646.38   56186  9.352937e+13     NaN   \n",
       "2  15507.45  15507.45  15786.38  164605  2.598516e+14     NaN   \n",
       "3  14266.85  14266.85  14462.82   81997  1.185908e+14     NaN   \n",
       "4  13125.50  13125.50  13125.50    7589  9.960942e+12     NaN   \n",
       "\n",
       "   Deliverable Volume  %Deliverble  \n",
       "0                 NaN          NaN  \n",
       "1                 NaN          NaN  \n",
       "2                 NaN          NaN  \n",
       "3                 NaN          NaN  \n",
       "4                 NaN          NaN  "
      ]
     },
     "execution_count": 3,
     "metadata": {},
     "output_type": "execute_result"
    }
   ],
   "source": [
    "#load the data set\n",
    "\n",
    "df= pd.read_csv('datasets_423609_1456925_INFY.csv')\n",
    "df.head()"
   ]
  },
  {
   "cell_type": "code",
   "execution_count": 4,
   "metadata": {},
   "outputs": [
    {
     "name": "stdout",
     "output_type": "stream",
     "text": [
      "(5141, 1)\n"
     ]
    },
    {
     "data": {
      "text/plain": [
       "array([[15625.  ],\n",
       "       [16800.  ],\n",
       "       [15701.  ],\n",
       "       [15256.65],\n",
       "       [13125.5 ]])"
      ]
     },
     "execution_count": 4,
     "metadata": {},
     "output_type": "execute_result"
    }
   ],
   "source": [
    "#Preprocessing and feature extraction\n",
    "\n",
    "df = df['Open'].values\n",
    "df = df.reshape(-1, 1)\n",
    "print(df.shape)\n",
    "df[:5]\n",
    "\n"
   ]
  },
  {
   "cell_type": "code",
   "execution_count": 5,
   "metadata": {},
   "outputs": [
    {
     "name": "stdout",
     "output_type": "stream",
     "text": [
      "(4112, 1)\n",
      "(1079, 1)\n"
     ]
    }
   ],
   "source": [
    "#spilt them into training and testing set 80% train and 20 %test\n",
    "#and just substracting 50 so that it overlap and we can visualize easier\n",
    "\n",
    "dataset_train = np.array(df[:int(df.shape[0]*0.8)])\n",
    "dataset_test = np.array(df[int(df.shape[0]*0.8)-50:])\n",
    "print(dataset_train.shape)\n",
    "print(dataset_test.shape)\n",
    "\n"
   ]
  },
  {
   "cell_type": "code",
   "execution_count": 6,
   "metadata": {},
   "outputs": [
    {
     "data": {
      "text/plain": [
       "array([[0.92590958],\n",
       "       [1.        ],\n",
       "       [0.93070181],\n",
       "       [0.90268302],\n",
       "       [0.76830191]])"
      ]
     },
     "execution_count": 6,
     "metadata": {},
     "output_type": "execute_result"
    }
   ],
   "source": [
    "#we'll use the min/max scalar to scale our data between zero and Run first of all we\n",
    "\n",
    "# will fit and transform our training data and we'll print the first five rows here \n",
    "\n",
    "\n",
    "scaler = MinMaxScaler(feature_range=(0,1))\n",
    "dataset_train = scaler.fit_transform(dataset_train)\n",
    "dataset_train[:5]"
   ]
  },
  {
   "cell_type": "code",
   "execution_count": 7,
   "metadata": {},
   "outputs": [
    {
     "data": {
      "text/plain": [
       "array([[0.01709124],\n",
       "       [0.01730563],\n",
       "       [0.01817265],\n",
       "       [0.01828615],\n",
       "       [0.01705341]])"
      ]
     },
     "execution_count": 7,
     "metadata": {},
     "output_type": "execute_result"
    }
   ],
   "source": [
    "#then we'll transfrom our data\n",
    "# with the prefix scaler  \n",
    "\n",
    "dataset_test = scaler.transform(dataset_test)\n",
    "dataset_test[:5]\n",
    "\n"
   ]
  },
  {
   "cell_type": "code",
   "execution_count": 8,
   "metadata": {},
   "outputs": [],
   "source": [
    "# next off we will create a function which\n",
    "#we can use to create datasets as an\n",
    "#argument df\n",
    "\n",
    "def create_dataset(df):\n",
    "    x = []\n",
    "    y = []\n",
    "    for i in range(50, df.shape[0]):\n",
    "        x.append(df[i-50:i, 0])\n",
    "        y.append(df[i, 0])\n",
    "    x = np.array(x)\n",
    "    y = np.array(y)\n",
    "    return x,y"
   ]
  },
  {
   "cell_type": "code",
   "execution_count": 9,
   "metadata": {},
   "outputs": [
    {
     "data": {
      "text/plain": [
       "array([[0.92590958, 1.        , 0.93070181, 0.90268302, 0.76830191,\n",
       "        0.76830191, 0.77299956, 0.69417996, 0.76669399, 0.71303361,\n",
       "        0.70994388, 0.68091935, 0.73176115, 0.77299956, 0.75408286,\n",
       "        0.79822183, 0.81083297, 0.41799609, 0.40891607, 0.41582067,\n",
       "        0.39781827, 0.4192572 , 0.40828552, 0.4120058 , 0.43874141,\n",
       "        0.47632259, 0.53332493, 0.49549152, 0.52512769, 0.61797402,\n",
       "        0.61797402, 0.57437417, 0.57122139, 0.59764172, 0.56176304,\n",
       "        0.59259726, 0.60274923, 0.53275742, 0.53338798, 0.50186014,\n",
       "        0.48294344, 0.51440822, 0.57971814, 0.63803203, 0.69352733,\n",
       "        0.74777729, 0.78876348, 0.74084116, 0.70357526, 0.67841604]])"
      ]
     },
     "execution_count": 9,
     "metadata": {},
     "output_type": "execute_result"
    }
   ],
   "source": [
    "# we will create our training data so we\n",
    "#call creates data set with our data sets\n",
    "#trained and then we will save it in x_train\n",
    "#and y_train and variable and we are\n",
    "#going to put the first row of the X \n",
    "\n",
    "x_train, y_train = create_dataset(dataset_train)\n",
    "x_train[:1]\n",
    "\n"
   ]
  },
  {
   "cell_type": "code",
   "execution_count": 10,
   "metadata": {},
   "outputs": [
    {
     "data": {
      "text/plain": [
       "array([[0.01709124, 0.01730563, 0.01817265, 0.01828615, 0.01705341,\n",
       "        0.01696198, 0.01650482, 0.01513336, 0.0160256 , 0.01568825,\n",
       "        0.01519642, 0.01648906, 0.01623684, 0.01657734, 0.01670975,\n",
       "        0.01697459, 0.01759253, 0.01626836, 0.01702188, 0.0166467 ,\n",
       "        0.01654581, 0.01576707, 0.01595939, 0.01696828, 0.01832398,\n",
       "        0.01894823, 0.02043004, 0.01923513, 0.01979948, 0.02011791,\n",
       "        0.02042373, 0.02055615, 0.02036383, 0.01798663, 0.01478025,\n",
       "        0.01486853, 0.01522164, 0.01530361, 0.01566934, 0.01563781,\n",
       "        0.01513336, 0.01703764, 0.01658364, 0.01616117, 0.01557475,\n",
       "        0.01456901, 0.01398575, 0.01437669, 0.01510183, 0.01507031]])"
      ]
     },
     "execution_count": 10,
     "metadata": {},
     "output_type": "execute_result"
    }
   ],
   "source": [
    "#create testing data set\n",
    "\n",
    "x_test, y_test = create_dataset(dataset_test)\n",
    "x_test[:1]\n",
    "\n"
   ]
  },
  {
   "cell_type": "code",
   "execution_count": 11,
   "metadata": {},
   "outputs": [],
   "source": [
    "# Reshape features for LSTM Layer\n",
    "x_train = np.reshape(x_train, (x_train.shape[0], x_train.shape[1], 1))\n",
    "\n",
    "x_test = np.reshape(x_test, (x_test.shape[0], x_test.shape[1], 1))"
   ]
  },
  {
   "cell_type": "code",
   "execution_count": 12,
   "metadata": {},
   "outputs": [],
   "source": [
    "#Building Mocel\n",
    "\n",
    "model = Sequential()\n",
    "model.add(LSTM(units=96, return_sequences=True, input_shape=(x_train.shape[1], 1)))\n",
    "model.add(Dropout(0.2))\n",
    "model.add(LSTM(units=96, return_sequences=True))\n",
    "model.add(Dropout(0.2))\n",
    "model.add(LSTM(units=96, return_sequences=True))\n",
    "model.add(Dropout(0.2))\n",
    "model.add(LSTM(units=96))\n",
    "model.add(Dropout(0.2))\n",
    "model.add(Dense(units=1))"
   ]
  },
  {
   "cell_type": "code",
   "execution_count": 13,
   "metadata": {},
   "outputs": [],
   "source": [
    "#Compile the model \n",
    "\n",
    "model.compile(loss='mean_squared_error', optimizer='adam')"
   ]
  },
  {
   "cell_type": "code",
   "execution_count": 14,
   "metadata": {},
   "outputs": [],
   "source": [
    "#check whetert we save the model or not\n",
    "\n",
    "if(not os.path.exists('stock_prediction.h5')):\n",
    "    model.fit(x_train, y_train, epochs=50, batch_size=32)\n",
    "    model.save('stock_prediction.h5')"
   ]
  },
  {
   "cell_type": "code",
   "execution_count": 15,
   "metadata": {},
   "outputs": [],
   "source": [
    "#load the model\n",
    "\n",
    "model = load_model('stock_prediction.h5')"
   ]
  },
  {
   "cell_type": "code",
   "execution_count": 16,
   "metadata": {},
   "outputs": [
    {
     "data": {
      "text/plain": [
       "<matplotlib.legend.Legend at 0x25dd2cef5c0>"
      ]
     },
     "execution_count": 16,
     "metadata": {},
     "output_type": "execute_result"
    },
    {
     "data": {
      "image/png": "[encoded data removed]",
      "text/plain": [
       "<Figure size 576x288 with 1 Axes>"
      ]
     },
     "metadata": {
      "needs_background": "light"
     },
     "output_type": "display_data"
    }
   ],
   "source": [
    "#visualize the model\n",
    "\n",
    "predictions = model.predict(x_test)\n",
    "predictions = scaler.inverse_transform(predictions)\n",
    "\n",
    "fig, ax = plt.subplots(figsize=(8,4))\n",
    "plt.plot(df, color='red',  label=\"True Price\")\n",
    "ax.plot(range(len(y_train)+50,len(y_train)+50+len(predictions)),predictions, color='green', label='Predicted Testing Price')\n",
    "plt.legend()"
   ]
  },
  {
   "cell_type": "code",
   "execution_count": 17,
   "metadata": {},
   "outputs": [
    {
     "data": {
      "text/plain": [
       "<matplotlib.legend.Legend at 0x25dd2d78940>"
      ]
     },
     "execution_count": 17,
     "metadata": {},
     "output_type": "execute_result"
    },
    {
     "data": {
      "image/png": "[encoded data removed]",
      "text/plain": [
       "<Figure size 576x288 with 1 Axes>"
      ]
     },
     "metadata": {
      "needs_background": "light"
     },
     "output_type": "display_data"
    }
   ],
   "source": [
    "#Plot the actual and predicted price\n",
    "\n",
    "y_test_scaled = scaler.inverse_transform(y_test.reshape(-1, 1))\n",
    "\n",
    "fig, ax = plt.subplots(figsize=(8,4))\n",
    "ax.plot(y_test_scaled, color='red', label='True Testing Price')\n",
    "plt.plot(predictions, color='green', label='Predicted Testing Price')\n",
    "plt.legend()"
   ]
  },
  {
   "cell_type": "code",
   "execution_count": 18,
   "metadata": {},
   "outputs": [
    {
     "name": "stdout",
     "output_type": "stream",
     "text": [
      "[868.3697, 13624.551, 18030.467, 21773.523, 22094.691, 22982.133, 23291.21, 23539.072, 23686.508, 23773.15, 23832.324, 23863.277, 23884.875, 23894.705, 23901.492, 23903.795, 23905.338, 23905.342, 23905.303, 23904.805, 23904.406, 23903.9, 23903.484, 23903.035, 23902.637, 23902.248, 23901.889, 23901.53, 23901.197, 23900.879, 23900.572, 23900.293, 23900.03, 23899.791, 23899.57, 23899.367, 23899.178, 23898.996, 23898.818, 23898.62, 23898.385, 23898.082, 23897.678, 23897.174, 23896.66, 23896.406, 23896.777, 23897.885, 23898.213, 23891.348, 23858.906, 23858.697, 23858.697, 23858.697, 23858.697, 23858.697, 23858.697, 23858.697, 23858.697, 23858.697, 23858.697, 23858.697, 23858.697, 23858.697, 23858.697, 23858.697, 23858.697, 23858.697, 23858.701, 23858.697, 23858.697, 23858.697, 23858.697, 23858.697, 23858.697, 23858.693, 23858.697, 23858.697, 23858.697, 23858.701, 23858.697, 23858.697, 23858.697, 23858.697, 23858.697, 23858.697, 23858.693, 23858.697, 23858.697, 23858.697, 23858.697, 23858.697, 23858.697, 23858.697, 23858.697, 23858.697, 23858.697, 23858.697, 23858.697, 23858.697]\n"
     ]
    }
   ],
   "source": [
    "x = x_test[-1]\n",
    "num_timesteps = 100\n",
    "preds = []\n",
    "for i in range(num_timesteps):\n",
    "    data = np.expand_dims(x, axis=0)\n",
    "    prediction = model.predict(data)\n",
    "    prediction = scaler.inverse_transform(prediction)\n",
    "    preds.append(prediction[0][0])\n",
    "    x = np.delete(x, 0, axis=0) # delete first row\n",
    "    x = np.vstack([x, prediction]) # add prediction\n",
    "\n",
    "print(preds)"
   ]
  }
 ],
 "metadata": {
  "kernelspec": {
   "display_name": "Python 3",
   "language": "python",
   "name": "python3"
  },
  "language_info": {
   "codemirror_mode": {
    "name": "ipython",
    "version": 3
   },
   "file_extension": ".py",
   "mimetype": "text/x-python",
   "name": "python",
   "nbconvert_exporter": "python",
   "pygments_lexer": "ipython3",
   "version": "3.7.6"
  }
 },
 "nbformat": 4,
 "nbformat_minor": 2
}
